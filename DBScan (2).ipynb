{
 "metadata": {
  "language_info": {
   "codemirror_mode": {
    "name": "ipython",
    "version": 3
   },
   "file_extension": ".py",
   "mimetype": "text/x-python",
   "name": "python",
   "nbconvert_exporter": "python",
   "pygments_lexer": "ipython3",
   "version": "3.8.3-final"
  },
  "orig_nbformat": 2,
  "kernelspec": {
   "name": "python3",
   "display_name": "Python 3.8.3 64-bit (conda)",
   "metadata": {
    "interpreter": {
     "hash": "a2729ddf6cbd18f0a7c20aa25fb92acd9769b06188a5a5dc96c0a323f73a2059"
    }
   }
  }
 },
 "nbformat": 4,
 "nbformat_minor": 2,
 "cells": [
  {
   "cell_type": "code",
   "execution_count": 18,
   "metadata": {},
   "outputs": [],
   "source": [
    "import numpy as np\n",
    "import pandas as pd"
   ]
  },
  {
   "cell_type": "code",
   "execution_count": 23,
   "metadata": {},
   "outputs": [
    {
     "output_type": "stream",
     "name": "stdout",
     "text": [
      "     CustomerID   Genre  Age  Annual Income (k$)  Spending Score (1-100)\n0             1    Male   19                  15                      39\n1             2    Male   21                  15                      81\n2             3  Female   20                  16                       6\n3             4  Female   23                  16                      77\n4             5  Female   31                  17                      40\n..          ...     ...  ...                 ...                     ...\n195         196  Female   35                 120                      79\n196         197  Female   45                 126                      28\n197         198    Male   32                 126                      74\n198         199    Male   32                 137                      18\n199         200    Male   30                 137                      83\n\n[200 rows x 5 columns]\n"
     ]
    }
   ],
   "source": [
    "dataset = pd.read_csv(\"Mall_Customers.csv\")\n",
    "X = dataset.iloc[:, [3, 4]].values\n",
    "print(dataset)"
   ]
  },
  {
   "cell_type": "code",
   "execution_count": 24,
   "metadata": {},
   "outputs": [
    {
     "output_type": "stream",
     "name": "stdout",
     "text": [
      "[[ 15  39]\n [ 15  81]\n [ 16   6]\n [ 16  77]\n [ 17  40]\n [ 17  76]\n [ 18   6]\n [ 18  94]\n [ 19   3]\n [ 19  72]\n [ 19  14]\n [ 19  99]\n [ 20  15]\n [ 20  77]\n [ 20  13]\n [ 20  79]\n [ 21  35]\n [ 21  66]\n [ 23  29]\n [ 23  98]\n [ 24  35]\n [ 24  73]\n [ 25   5]\n [ 25  73]\n [ 28  14]\n [ 28  82]\n [ 28  32]\n [ 28  61]\n [ 29  31]\n [ 29  87]\n [ 30   4]\n [ 30  73]\n [ 33   4]\n [ 33  92]\n [ 33  14]\n [ 33  81]\n [ 34  17]\n [ 34  73]\n [ 37  26]\n [ 37  75]\n [ 38  35]\n [ 38  92]\n [ 39  36]\n [ 39  61]\n [ 39  28]\n [ 39  65]\n [ 40  55]\n [ 40  47]\n [ 40  42]\n [ 40  42]\n [ 42  52]\n [ 42  60]\n [ 43  54]\n [ 43  60]\n [ 43  45]\n [ 43  41]\n [ 44  50]\n [ 44  46]\n [ 46  51]\n [ 46  46]\n [ 46  56]\n [ 46  55]\n [ 47  52]\n [ 47  59]\n [ 48  51]\n [ 48  59]\n [ 48  50]\n [ 48  48]\n [ 48  59]\n [ 48  47]\n [ 49  55]\n [ 49  42]\n [ 50  49]\n [ 50  56]\n [ 54  47]\n [ 54  54]\n [ 54  53]\n [ 54  48]\n [ 54  52]\n [ 54  42]\n [ 54  51]\n [ 54  55]\n [ 54  41]\n [ 54  44]\n [ 54  57]\n [ 54  46]\n [ 57  58]\n [ 57  55]\n [ 58  60]\n [ 58  46]\n [ 59  55]\n [ 59  41]\n [ 60  49]\n [ 60  40]\n [ 60  42]\n [ 60  52]\n [ 60  47]\n [ 60  50]\n [ 61  42]\n [ 61  49]\n [ 62  41]\n [ 62  48]\n [ 62  59]\n [ 62  55]\n [ 62  56]\n [ 62  42]\n [ 63  50]\n [ 63  46]\n [ 63  43]\n [ 63  48]\n [ 63  52]\n [ 63  54]\n [ 64  42]\n [ 64  46]\n [ 65  48]\n [ 65  50]\n [ 65  43]\n [ 65  59]\n [ 67  43]\n [ 67  57]\n [ 67  56]\n [ 67  40]\n [ 69  58]\n [ 69  91]\n [ 70  29]\n [ 70  77]\n [ 71  35]\n [ 71  95]\n [ 71  11]\n [ 71  75]\n [ 71   9]\n [ 71  75]\n [ 72  34]\n [ 72  71]\n [ 73   5]\n [ 73  88]\n [ 73   7]\n [ 73  73]\n [ 74  10]\n [ 74  72]\n [ 75   5]\n [ 75  93]\n [ 76  40]\n [ 76  87]\n [ 77  12]\n [ 77  97]\n [ 77  36]\n [ 77  74]\n [ 78  22]\n [ 78  90]\n [ 78  17]\n [ 78  88]\n [ 78  20]\n [ 78  76]\n [ 78  16]\n [ 78  89]\n [ 78   1]\n [ 78  78]\n [ 78   1]\n [ 78  73]\n [ 79  35]\n [ 79  83]\n [ 81   5]\n [ 81  93]\n [ 85  26]\n [ 85  75]\n [ 86  20]\n [ 86  95]\n [ 87  27]\n [ 87  63]\n [ 87  13]\n [ 87  75]\n [ 87  10]\n [ 87  92]\n [ 88  13]\n [ 88  86]\n [ 88  15]\n [ 88  69]\n [ 93  14]\n [ 93  90]\n [ 97  32]\n [ 97  86]\n [ 98  15]\n [ 98  88]\n [ 99  39]\n [ 99  97]\n [101  24]\n [101  68]\n [103  17]\n [103  85]\n [103  23]\n [103  69]\n [113   8]\n [113  91]\n [120  16]\n [120  79]\n [126  28]\n [126  74]\n [137  18]\n [137  83]]\n"
     ]
    }
   ],
   "source": [
    "print(X)"
   ]
  },
  {
   "cell_type": "code",
   "execution_count": 41,
   "metadata": {},
   "outputs": [],
   "source": [
    "from sklearn.cluster import DBSCAN\n",
    "dbscan = DBSCAN( eps = 5, min_samples=6)"
   ]
  },
  {
   "cell_type": "code",
   "execution_count": 42,
   "metadata": {},
   "outputs": [
    {
     "output_type": "stream",
     "name": "stdout",
     "text": [
      "DBSCAN(eps=5, min_samples=6)\n"
     ]
    }
   ],
   "source": [
    "model = dbscan.fit(X)\n",
    "print(model)"
   ]
  },
  {
   "cell_type": "code",
   "execution_count": 43,
   "metadata": {},
   "outputs": [
    {
     "output_type": "stream",
     "name": "stdout",
     "text": [
      "[-1 -1 -1 -1 -1 -1 -1 -1 -1 -1 -1 -1 -1 -1 -1 -1 -1 -1 -1 -1 -1 -1 -1 -1\n -1 -1 -1 -1 -1 -1 -1 -1 -1 -1 -1 -1 -1 -1 -1 -1 -1 -1 -1 -1 -1 -1  0  0\n  0  0  0 -1  0  0  0  0  0  0  0  0  0  0  0  0  0  0  0  0  0  0  0  0\n  0  0  0  0  0  0  0  0  0  0  0  0  0  0  0  0  0  0  0  0  0  0  0  0\n  0  0  0  0  0  0  0  0  0  0  0  0  0  0  0  0  0  0  0  0  0  0  0  0\n  0  0  0 -1 -1  1 -1 -1  2  1  2  1 -1  1  2  3  2  1  2  1  2  3 -1  3\n -1 -1 -1  1 -1  3 -1  3 -1  1 -1  3 -1  1 -1  1 -1  3 -1  3 -1 -1 -1 -1\n -1 -1 -1 -1 -1 -1 -1 -1 -1 -1 -1 -1 -1 -1 -1 -1 -1 -1 -1 -1 -1 -1 -1 -1\n -1 -1 -1 -1 -1 -1 -1 -1]\n"
     ]
    }
   ],
   "source": [
    "labels = model.labels_\n",
    "print (labels)"
   ]
  },
  {
   "cell_type": "code",
   "execution_count": 44,
   "metadata": {},
   "outputs": [],
   "source": [
    "from sklearn import metrics"
   ]
  },
  {
   "cell_type": "code",
   "execution_count": 45,
   "metadata": {},
   "outputs": [],
   "source": [
    "sample_cores = np.zeros_like(labels, dtype=bool)\n",
    "sample_cores[dbscan.core_sample_indices_] = True"
   ]
  },
  {
   "cell_type": "code",
   "execution_count": 46,
   "metadata": {},
   "outputs": [
    {
     "output_type": "stream",
     "name": "stdout",
     "text": [
      "4\n"
     ]
    }
   ],
   "source": [
    "n_clusters = len(set(labels)) - (1 if -1 in labels else 0 )\n",
    "print(n_clusters)"
   ]
  },
  {
   "cell_type": "code",
   "execution_count": 47,
   "metadata": {},
   "outputs": [
    {
     "output_type": "stream",
     "name": "stdout",
     "text": [
      "0.06353533083993718\n"
     ]
    }
   ],
   "source": [
    "print(metrics.silhouette_score(X, labels))"
   ]
  },
  {
   "cell_type": "code",
   "execution_count": null,
   "metadata": {},
   "outputs": [],
   "source": []
  }
 ]
}